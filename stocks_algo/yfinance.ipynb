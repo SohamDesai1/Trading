{
 "cells": [
  {
   "cell_type": "code",
   "execution_count": 5,
   "id": "e1c7617e",
   "metadata": {},
   "outputs": [],
   "source": [
    "import yfinance as yf"
   ]
  },
  {
   "cell_type": "code",
   "execution_count": 11,
   "id": "125fefe9",
   "metadata": {},
   "outputs": [
    {
     "name": "stdout",
     "output_type": "stream",
     "text": [
      "[*********************100%***********************]  1 of 1 completed\n"
     ]
    }
   ],
   "source": [
    "data = yf.download('RELIANCE.NS',start=\"2022-12-08\",interval='1m')"
   ]
  },
  {
   "cell_type": "code",
   "execution_count": 12,
   "id": "f534d634",
   "metadata": {},
   "outputs": [
    {
     "data": {
      "text/html": [
       "<div>\n",
       "<style scoped>\n",
       "    .dataframe tbody tr th:only-of-type {\n",
       "        vertical-align: middle;\n",
       "    }\n",
       "\n",
       "    .dataframe tbody tr th {\n",
       "        vertical-align: top;\n",
       "    }\n",
       "\n",
       "    .dataframe thead th {\n",
       "        text-align: right;\n",
       "    }\n",
       "</style>\n",
       "<table border=\"1\" class=\"dataframe\">\n",
       "  <thead>\n",
       "    <tr style=\"text-align: right;\">\n",
       "      <th></th>\n",
       "      <th>Open</th>\n",
       "      <th>High</th>\n",
       "      <th>Low</th>\n",
       "      <th>Close</th>\n",
       "      <th>Adj Close</th>\n",
       "      <th>Volume</th>\n",
       "    </tr>\n",
       "    <tr>\n",
       "      <th>Datetime</th>\n",
       "      <th></th>\n",
       "      <th></th>\n",
       "      <th></th>\n",
       "      <th></th>\n",
       "      <th></th>\n",
       "      <th></th>\n",
       "    </tr>\n",
       "  </thead>\n",
       "  <tbody>\n",
       "    <tr>\n",
       "      <th>2022-12-08 09:15:00</th>\n",
       "      <td>2660.300049</td>\n",
       "      <td>2660.300049</td>\n",
       "      <td>2650.750000</td>\n",
       "      <td>2652.199951</td>\n",
       "      <td>2652.199951</td>\n",
       "      <td>0</td>\n",
       "    </tr>\n",
       "    <tr>\n",
       "      <th>2022-12-08 09:16:00</th>\n",
       "      <td>2652.199951</td>\n",
       "      <td>2652.199951</td>\n",
       "      <td>2646.500000</td>\n",
       "      <td>2650.000000</td>\n",
       "      <td>2650.000000</td>\n",
       "      <td>58722</td>\n",
       "    </tr>\n",
       "    <tr>\n",
       "      <th>2022-12-08 09:17:00</th>\n",
       "      <td>2650.399902</td>\n",
       "      <td>2654.850098</td>\n",
       "      <td>2650.000000</td>\n",
       "      <td>2654.100098</td>\n",
       "      <td>2654.100098</td>\n",
       "      <td>25822</td>\n",
       "    </tr>\n",
       "    <tr>\n",
       "      <th>2022-12-08 09:18:00</th>\n",
       "      <td>2654.350098</td>\n",
       "      <td>2656.800049</td>\n",
       "      <td>2653.000000</td>\n",
       "      <td>2653.550049</td>\n",
       "      <td>2653.550049</td>\n",
       "      <td>32228</td>\n",
       "    </tr>\n",
       "    <tr>\n",
       "      <th>2022-12-08 09:19:00</th>\n",
       "      <td>2654.000000</td>\n",
       "      <td>2655.500000</td>\n",
       "      <td>2651.550049</td>\n",
       "      <td>2651.600098</td>\n",
       "      <td>2651.600098</td>\n",
       "      <td>38109</td>\n",
       "    </tr>\n",
       "    <tr>\n",
       "      <th>...</th>\n",
       "      <td>...</td>\n",
       "      <td>...</td>\n",
       "      <td>...</td>\n",
       "      <td>...</td>\n",
       "      <td>...</td>\n",
       "      <td>...</td>\n",
       "    </tr>\n",
       "    <tr>\n",
       "      <th>2022-12-08 15:26:00</th>\n",
       "      <td>2649.250000</td>\n",
       "      <td>2649.750000</td>\n",
       "      <td>2648.899902</td>\n",
       "      <td>2649.250000</td>\n",
       "      <td>2649.250000</td>\n",
       "      <td>25603</td>\n",
       "    </tr>\n",
       "    <tr>\n",
       "      <th>2022-12-08 15:27:00</th>\n",
       "      <td>2649.199951</td>\n",
       "      <td>2649.449951</td>\n",
       "      <td>2648.050049</td>\n",
       "      <td>2648.149902</td>\n",
       "      <td>2648.149902</td>\n",
       "      <td>15320</td>\n",
       "    </tr>\n",
       "    <tr>\n",
       "      <th>2022-12-08 15:28:00</th>\n",
       "      <td>2648.300049</td>\n",
       "      <td>2648.899902</td>\n",
       "      <td>2647.550049</td>\n",
       "      <td>2648.100098</td>\n",
       "      <td>2648.100098</td>\n",
       "      <td>27034</td>\n",
       "    </tr>\n",
       "    <tr>\n",
       "      <th>2022-12-08 15:29:00</th>\n",
       "      <td>2647.600098</td>\n",
       "      <td>2649.000000</td>\n",
       "      <td>2647.000000</td>\n",
       "      <td>2649.000000</td>\n",
       "      <td>2649.000000</td>\n",
       "      <td>33317</td>\n",
       "    </tr>\n",
       "    <tr>\n",
       "      <th>2022-12-08 15:30:00</th>\n",
       "      <td>2649.250000</td>\n",
       "      <td>2649.250000</td>\n",
       "      <td>2649.250000</td>\n",
       "      <td>2649.250000</td>\n",
       "      <td>2649.250000</td>\n",
       "      <td>0</td>\n",
       "    </tr>\n",
       "  </tbody>\n",
       "</table>\n",
       "<p>376 rows × 6 columns</p>\n",
       "</div>"
      ],
      "text/plain": [
       "                            Open         High          Low        Close  \\\n",
       "Datetime                                                                  \n",
       "2022-12-08 09:15:00  2660.300049  2660.300049  2650.750000  2652.199951   \n",
       "2022-12-08 09:16:00  2652.199951  2652.199951  2646.500000  2650.000000   \n",
       "2022-12-08 09:17:00  2650.399902  2654.850098  2650.000000  2654.100098   \n",
       "2022-12-08 09:18:00  2654.350098  2656.800049  2653.000000  2653.550049   \n",
       "2022-12-08 09:19:00  2654.000000  2655.500000  2651.550049  2651.600098   \n",
       "...                          ...          ...          ...          ...   \n",
       "2022-12-08 15:26:00  2649.250000  2649.750000  2648.899902  2649.250000   \n",
       "2022-12-08 15:27:00  2649.199951  2649.449951  2648.050049  2648.149902   \n",
       "2022-12-08 15:28:00  2648.300049  2648.899902  2647.550049  2648.100098   \n",
       "2022-12-08 15:29:00  2647.600098  2649.000000  2647.000000  2649.000000   \n",
       "2022-12-08 15:30:00  2649.250000  2649.250000  2649.250000  2649.250000   \n",
       "\n",
       "                       Adj Close  Volume  \n",
       "Datetime                                  \n",
       "2022-12-08 09:15:00  2652.199951       0  \n",
       "2022-12-08 09:16:00  2650.000000   58722  \n",
       "2022-12-08 09:17:00  2654.100098   25822  \n",
       "2022-12-08 09:18:00  2653.550049   32228  \n",
       "2022-12-08 09:19:00  2651.600098   38109  \n",
       "...                          ...     ...  \n",
       "2022-12-08 15:26:00  2649.250000   25603  \n",
       "2022-12-08 15:27:00  2648.149902   15320  \n",
       "2022-12-08 15:28:00  2648.100098   27034  \n",
       "2022-12-08 15:29:00  2649.000000   33317  \n",
       "2022-12-08 15:30:00  2649.250000       0  \n",
       "\n",
       "[376 rows x 6 columns]"
      ]
     },
     "execution_count": 12,
     "metadata": {},
     "output_type": "execute_result"
    }
   ],
   "source": [
    "data"
   ]
  },
  {
   "cell_type": "code",
   "execution_count": 16,
   "id": "00a52912",
   "metadata": {},
   "outputs": [
    {
     "data": {
      "text/plain": [
       "yfinance.Ticker object <RELIANCE.NS>"
      ]
     },
     "execution_count": 16,
     "metadata": {},
     "output_type": "execute_result"
    }
   ],
   "source": [
    "stock = yf.(\"RELIANCE.NS\")\n",
    "stock"
   ]
  },
  {
   "cell_type": "code",
   "execution_count": null,
   "id": "4533be8e",
   "metadata": {},
   "outputs": [],
   "source": [
    "options = stock.option_chain()\n",
    "options"
   ]
  },
  {
   "cell_type": "code",
   "execution_count": null,
   "id": "4533be8e",
   "metadata": {},
   "outputs": [],
   "source": [
    "options = stock.option_chain()\n",
    "options"
   ]
  }
 ],
 "metadata": {
  "kernelspec": {
   "display_name": "Python 3 (ipykernel)",
   "language": "python",
   "name": "python3"
  },
  "language_info": {
   "codemirror_mode": {
    "name": "ipython",
    "version": 3
   },
   "file_extension": ".py",
   "mimetype": "text/x-python",
   "name": "python",
   "nbconvert_exporter": "python",
   "pygments_lexer": "ipython3",
   "version": "3.10.8"
  }
 },
 "nbformat": 4,
 "nbformat_minor": 5
}
