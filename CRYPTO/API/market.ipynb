{
 "cells": [
  {
   "cell_type": "code",
   "execution_count": 4,
   "metadata": {},
   "outputs": [],
   "source": [
    "import requests\n",
    "import pandas as pd\n",
    "import datetime as dt\n",
    "import time\n"
   ]
  },
  {
   "cell_type": "code",
   "execution_count": 5,
   "metadata": {},
   "outputs": [],
   "source": [
    "url = \"https://api.coindcx.com/exchange/v1/markets\"\n",
    "\n",
    "response = requests.get(url)\n",
    "data = response.json()\n"
   ]
  },
  {
   "cell_type": "code",
   "execution_count": 11,
   "metadata": {},
   "outputs": [
    {
     "data": {
      "text/plain": [
       "['BCH_INR',\n",
       " 'MKR_INR',\n",
       " 'BNB_INR',\n",
       " 'YFI_INR',\n",
       " 'CRV_INR',\n",
       " 'HBAR_INR',\n",
       " 'ADA_INR',\n",
       " 'DYDX_INR',\n",
       " 'SAND_INR',\n",
       " 'LUNA_INR',\n",
       " 'BTT_INR',\n",
       " 'MATIC_INR',\n",
       " 'SHIB_INR',\n",
       " 'BTC_INR',\n",
       " 'MANA_INR',\n",
       " 'ONE_INR',\n",
       " 'TRX_INR',\n",
       " 'SUSHI_INR',\n",
       " 'XRP_INR',\n",
       " 'SOL_INR',\n",
       " 'IOTX_INR',\n",
       " 'LRC_INR',\n",
       " 'ICP_INR',\n",
       " 'THETA_INR',\n",
       " 'AXS_INR',\n",
       " 'LTC_INR',\n",
       " 'FTM_INR',\n",
       " 'SC_INR',\n",
       " 'EOS_INR',\n",
       " 'FLOW_INR',\n",
       " 'NEAR_INR',\n",
       " 'GALA_INR',\n",
       " 'FLM_INR',\n",
       " 'CVC_INR',\n",
       " 'HNT_INR',\n",
       " 'WAXP_INR',\n",
       " 'RUNE_INR',\n",
       " 'UST_INR',\n",
       " 'CAKE_INR',\n",
       " 'QNT_INR',\n",
       " 'POLY_INR',\n",
       " 'KSM_INR',\n",
       " 'PUSH_INR',\n",
       " 'ICX_INR',\n",
       " 'USDC_INR',\n",
       " 'UNI_INR',\n",
       " 'STPT_INR',\n",
       " 'ALICE_INR',\n",
       " 'DOGE_INR',\n",
       " 'USDT_INR',\n",
       " 'XLM_INR',\n",
       " 'BUSD_INR',\n",
       " 'ZEC_INR',\n",
       " 'CHR_INR',\n",
       " 'CKB_INR',\n",
       " 'COMP_INR',\n",
       " 'ATOM_INR',\n",
       " 'ENJ_INR',\n",
       " 'SXP_INR',\n",
       " 'OMG_INR',\n",
       " 'OXT_INR',\n",
       " 'ETC_INR',\n",
       " 'ALPACA_INR',\n",
       " 'AAVE_INR',\n",
       " 'SNX_INR',\n",
       " 'LINK_INR',\n",
       " 'FIL_INR',\n",
       " 'DGTX_INR',\n",
       " 'HOT_INR',\n",
       " 'BAT_INR',\n",
       " 'VET_INR',\n",
       " 'ETH_INR',\n",
       " 'CHZ_INR',\n",
       " 'CRO_INR',\n",
       " 'FTT_INR',\n",
       " 'TFUEL_INR',\n",
       " 'AVAX_INR',\n",
       " 'GRT_INR',\n",
       " 'DOT_INR',\n",
       " 'ETN_INR']"
      ]
     },
     "execution_count": 11,
     "metadata": {},
     "output_type": "execute_result"
    }
   ],
   "source": [
    "pairs = []\n",
    "for i in data:\n",
    "    if i[-3:] == 'INR':\n",
    "        x = i[:-3] + \"_\" + i[-3:] \n",
    "        pairs.append(x)\n",
    "pairs "
   ]
  }
 ],
 "metadata": {
  "interpreter": {
   "hash": "d1f10cda19c0cf3e1d15988f2f87659bed15811a76e6809ca0999834898d50aa"
  },
  "kernelspec": {
   "display_name": "Python 3.10.1 64-bit",
   "language": "python",
   "name": "python3"
  },
  "language_info": {
   "codemirror_mode": {
    "name": "ipython",
    "version": 3
   },
   "file_extension": ".py",
   "mimetype": "text/x-python",
   "name": "python",
   "nbconvert_exporter": "python",
   "pygments_lexer": "ipython3",
   "version": "3.10.1"
  },
  "orig_nbformat": 4
 },
 "nbformat": 4,
 "nbformat_minor": 2
}
